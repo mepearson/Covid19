{
 "cells": [
  {
   "cell_type": "markdown",
   "metadata": {},
   "source": [
    "# Generation of TX County based data for use with FIPS based geospatial mapping\n",
    "This jupyter notebook describes the process to load assorted demographic data for TX and merge them into one table to be loaded for easy integrationg with FIPS county based time series data.\n",
    "\n",
    "## Data Sources\n",
    "1. Texas Public Health Region data from the \"Center for Health Statistics Texas County Numbers and Public Health Regions\" page at the [Texas Department of State Health Services][1]\n",
    "2. US 2019 population from US Census website.  Excel downloaded and converted to County/State/FIPS [csv file][2] on personal git repo \n",
    "3. Household count estimates from the American Community Survey, 2018 5-year Data Profile 02. Data provided by Theresa Howard at UT CSR. ([file on github][3])\n",
    "4. Final Compiled [Dataset][4] available on mepearson [tacc-dash repo][5]\n",
    "\n",
    "[1]: https://dshs.texas.gov/chs/info/info_txco.shtm \"DSHS\"\n",
    "[2]: https://github.com/mepearson/tacc_dash/blob/master/data/US_population.csv '2019 US Census Population Estimates'\n",
    "[3]: https://github.com/mepearson/tacc_dash/blob/master/data/counties_ACS_DP02_5Y_2018_Households.csv 'ACS Household Estimates'\n",
    "[4]: https://github.com/mepearson/tacc_dash/tree/master/data 'Compiled TX County Info'\n",
    "[5]: https://github.com/mepearson/tacc_dash/tree/master/data 'mepearon tacc-dash repo' "
   ]
  },
  {
   "cell_type": "markdown",
   "metadata": {},
   "source": [
    "## Libraries"
   ]
  },
  {
   "cell_type": "code",
   "execution_count": 1,
   "metadata": {},
   "outputs": [],
   "source": [
    "# Load Libraries\n",
    "import os\n",
    "from urllib.request import urlopen\n",
    "import json\n",
    "import pandas as pd\n",
    "import plotly.express as px"
   ]
  },
  {
   "cell_type": "markdown",
   "metadata": {},
   "source": [
    "## Get Data\n",
    "### 1. Public Health Region Data"
   ]
  },
  {
   "cell_type": "code",
   "execution_count": 2,
   "metadata": {},
   "outputs": [],
   "source": [
    "# TX health region link from https://dshs.texas.gov/chs/info/info_txco.shtm\n",
    "healthregionurl =  'http://www.dshs.state.tx.us/chs/info/TxCoPhrMsa.xls'\n",
    "txregions = pd.read_excel(healthregionurl)\n",
    "# remove footer rows\n",
    "txregions = txregions[0:254]\n",
    "# Convert to state + county fips code\n",
    "txregions['FIPS #'] = 48000 + txregions['FIPS #']\n",
    "# save to local file and then upload to github\n",
    "txregions.to_csv('dshs_county_info.csv')"
   ]
  },
  {
   "cell_type": "markdown",
   "metadata": {},
   "source": [
    "### 2. US Population Data"
   ]
  },
  {
   "cell_type": "code",
   "execution_count": 3,
   "metadata": {},
   "outputs": [],
   "source": [
    "# LOAD US POPULATION DATA\n",
    "# # US Population downloaded from US Census\n",
    "USpopfile = 'https://raw.githubusercontent.com/mepearson/tacc_dash/master/data/US_population.csv'\n",
    "uspop = pd.read_csv(USpopfile)\n",
    "# Convert population to numeric\n",
    "uspop['POP'] = uspop['POP'].str.replace(',','')\n",
    "uspop['Population'] = uspop['POP']\n",
    "uspop['POP'] = pd.to_numeric(uspop['POP'])\n",
    "# Split County, State column into separate columns\n",
    "uspop[['County','State']] = uspop['CTY STATE'].str.split(', ',expand=True)\n",
    "# Remove leading '.' from County name\n",
    "uspop['County']  = uspop['County'] .str[1:]\n",
    "# Remove ' County' from county name\n",
    "uspop['County'] = uspop['County'].str.replace(' County','')\n",
    "# Get TX specific population data\n",
    "txdemo = uspop[uspop['State']=='Texas'][['State','County','Population']]"
   ]
  },
  {
   "cell_type": "markdown",
   "metadata": {},
   "source": [
    "### 3. ACS Household Estimates"
   ]
  },
  {
   "cell_type": "code",
   "execution_count": 4,
   "metadata": {},
   "outputs": [],
   "source": [
    "acsurl='https://raw.githubusercontent.com/mepearson/tacc_dash/master/data/counties_ACS_DP02_5Y_2018_Households.csv'\n",
    "acs = pd.read_csv(acsurl)"
   ]
  },
  {
   "cell_type": "code",
   "execution_count": 5,
   "metadata": {},
   "outputs": [],
   "source": [
    "#select relevant data columns and rename to match previous dataframes\n",
    "acs = acs[['County Name', 'County FIPS', 'Estimate Total households','Margin of Error Total households']]"
   ]
  },
  {
   "cell_type": "markdown",
   "metadata": {},
   "source": [
    "## Merge data sets"
   ]
  },
  {
   "cell_type": "code",
   "execution_count": 6,
   "metadata": {},
   "outputs": [],
   "source": [
    "# Standardize column names as 'County' and 'FIPS'\n",
    "txregions = txregions.rename(columns={\"County Name\": \"County\", \"FIPS #\": \"FIPS\"})\n",
    "txdemo = txdemo.rename(columns={\"FIPS #\": \"FIPS\"})\n",
    "acs = acs.rename(columns={\"County Name\":\"County\",\"County FIPS\": \"FIPS\"})"
   ]
  },
  {
   "cell_type": "code",
   "execution_count": 7,
   "metadata": {},
   "outputs": [],
   "source": [
    "# Merge into one tx_info dataset\n",
    "tx_info = pd.merge(txregions, txdemo, on=['County'], how='outer')\n",
    "tx_info = pd.merge(tx_info, acs, on=['County','FIPS'], how='outer')"
   ]
  },
  {
   "cell_type": "code",
   "execution_count": 8,
   "metadata": {},
   "outputs": [],
   "source": [
    "### Export Dataset\n",
    "tx_info.to_csv('compiled_tx_county_info.csv')"
   ]
  },
  {
   "cell_type": "markdown",
   "metadata": {},
   "source": [
    "### Code to load compiled texas demographic data from github repository"
   ]
  },
  {
   "cell_type": "code",
   "execution_count": 9,
   "metadata": {},
   "outputs": [],
   "source": [
    "txdataurl = 'https://raw.githubusercontent.com/mepearson/tacc_dash/master/data/compiled_tx_county_info.csv'\n",
    "txdata = pd.read_csv(txdataurl,index_col=0)\n",
    "txdata = txdata.rename(columns={'FIPS':'fips'})"
   ]
  },
  {
   "cell_type": "code",
   "execution_count": null,
   "metadata": {},
   "outputs": [],
   "source": []
  }
 ],
 "metadata": {
  "kernelspec": {
   "display_name": "Python 3",
   "language": "python",
   "name": "python3"
  },
  "language_info": {
   "codemirror_mode": {
    "name": "ipython",
    "version": 3
   },
   "file_extension": ".py",
   "mimetype": "text/x-python",
   "name": "python",
   "nbconvert_exporter": "python",
   "pygments_lexer": "ipython3",
   "version": "3.7.7"
  }
 },
 "nbformat": 4,
 "nbformat_minor": 2
}
