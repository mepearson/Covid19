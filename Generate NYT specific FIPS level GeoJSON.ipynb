{
 "cells": [
  {
   "cell_type": "markdown",
   "metadata": {},
   "source": [
    "# Mapping Covid\n",
    "## Import Necessary Libraries"
   ]
  },
  {
   "cell_type": "code",
   "execution_count": 6,
   "metadata": {},
   "outputs": [],
   "source": [
    "import os\n",
    "import numpy as np\n",
    "import geopandas as gpd"
   ]
  },
  {
   "cell_type": "markdown",
   "metadata": {},
   "source": [
    "## Process the Mapping Data\n",
    "This section includes:\n",
    "    * Loading the GeoJSON of FIPS Counties from Plotly\n",
    "    * Creating dissolved GeoJSON areas for New York City, Kansas City and Joplin as outlined in the NYT Covid-19 Dataset"
   ]
  },
  {
   "cell_type": "code",
   "execution_count": 46,
   "metadata": {},
   "outputs": [],
   "source": [
    "# read plotly GeoJSON file into geopandas dataframe\n",
    "url = 'https://raw.githubusercontent.com/plotly/datasets/master/geojson-counties-fips.json'\n",
    "gdf = gpd.read_file(url)"
   ]
  },
  {
   "cell_type": "code",
   "execution_count": 47,
   "metadata": {},
   "outputs": [
    {
     "data": {
      "text/html": [
       "<div>\n",
       "<style scoped>\n",
       "    .dataframe tbody tr th:only-of-type {\n",
       "        vertical-align: middle;\n",
       "    }\n",
       "\n",
       "    .dataframe tbody tr th {\n",
       "        vertical-align: top;\n",
       "    }\n",
       "\n",
       "    .dataframe thead th {\n",
       "        text-align: right;\n",
       "    }\n",
       "</style>\n",
       "<table border=\"1\" class=\"dataframe\">\n",
       "  <thead>\n",
       "    <tr style=\"text-align: right;\">\n",
       "      <th></th>\n",
       "      <th>id</th>\n",
       "      <th>GEO_ID</th>\n",
       "      <th>STATE</th>\n",
       "      <th>COUNTY</th>\n",
       "      <th>NAME</th>\n",
       "      <th>LSAD</th>\n",
       "      <th>CENSUSAREA</th>\n",
       "      <th>geometry</th>\n",
       "    </tr>\n",
       "  </thead>\n",
       "  <tbody>\n",
       "    <tr>\n",
       "      <td>0</td>\n",
       "      <td>01001</td>\n",
       "      <td>0500000US01001</td>\n",
       "      <td>01</td>\n",
       "      <td>001</td>\n",
       "      <td>Autauga</td>\n",
       "      <td>County</td>\n",
       "      <td>594.436</td>\n",
       "      <td>POLYGON ((-86.49677 32.34444, -86.71790 32.402...</td>\n",
       "    </tr>\n",
       "    <tr>\n",
       "      <td>1</td>\n",
       "      <td>01009</td>\n",
       "      <td>0500000US01009</td>\n",
       "      <td>01</td>\n",
       "      <td>009</td>\n",
       "      <td>Blount</td>\n",
       "      <td>County</td>\n",
       "      <td>644.776</td>\n",
       "      <td>POLYGON ((-86.57780 33.76532, -86.75914 33.840...</td>\n",
       "    </tr>\n",
       "    <tr>\n",
       "      <td>2</td>\n",
       "      <td>01017</td>\n",
       "      <td>0500000US01017</td>\n",
       "      <td>01</td>\n",
       "      <td>017</td>\n",
       "      <td>Chambers</td>\n",
       "      <td>County</td>\n",
       "      <td>596.531</td>\n",
       "      <td>POLYGON ((-85.18413 32.87053, -85.12342 32.772...</td>\n",
       "    </tr>\n",
       "    <tr>\n",
       "      <td>3</td>\n",
       "      <td>01021</td>\n",
       "      <td>0500000US01021</td>\n",
       "      <td>01</td>\n",
       "      <td>021</td>\n",
       "      <td>Chilton</td>\n",
       "      <td>County</td>\n",
       "      <td>692.854</td>\n",
       "      <td>POLYGON ((-86.51734 33.02057, -86.51596 32.929...</td>\n",
       "    </tr>\n",
       "    <tr>\n",
       "      <td>4</td>\n",
       "      <td>01033</td>\n",
       "      <td>0500000US01033</td>\n",
       "      <td>01</td>\n",
       "      <td>033</td>\n",
       "      <td>Colbert</td>\n",
       "      <td>County</td>\n",
       "      <td>592.619</td>\n",
       "      <td>POLYGON ((-88.13999 34.58170, -88.13925 34.587...</td>\n",
       "    </tr>\n",
       "  </tbody>\n",
       "</table>\n",
       "</div>"
      ],
      "text/plain": [
       "      id          GEO_ID STATE COUNTY      NAME    LSAD  CENSUSAREA  \\\n",
       "0  01001  0500000US01001    01    001   Autauga  County     594.436   \n",
       "1  01009  0500000US01009    01    009    Blount  County     644.776   \n",
       "2  01017  0500000US01017    01    017  Chambers  County     596.531   \n",
       "3  01021  0500000US01021    01    021   Chilton  County     692.854   \n",
       "4  01033  0500000US01033    01    033   Colbert  County     592.619   \n",
       "\n",
       "                                            geometry  \n",
       "0  POLYGON ((-86.49677 32.34444, -86.71790 32.402...  \n",
       "1  POLYGON ((-86.57780 33.76532, -86.75914 33.840...  \n",
       "2  POLYGON ((-85.18413 32.87053, -85.12342 32.772...  \n",
       "3  POLYGON ((-86.51734 33.02057, -86.51596 32.929...  \n",
       "4  POLYGON ((-88.13999 34.58170, -88.13925 34.587...  "
      ]
     },
     "execution_count": 47,
     "metadata": {},
     "output_type": "execute_result"
    }
   ],
   "source": [
    "gdf.head()"
   ]
  },
  {
   "cell_type": "markdown",
   "metadata": {},
   "source": [
    "### Create pseudo FIPS codes for merged fips regions\n",
    "In the NYT Covid dataset, multiple FIPS regions are combined for New York City, Kansas City and Joplin. To accomodate this we generate psuedo FIPS codes for these regions based off the standard algorithim of 2 digit state code + a 3 digit county code.  Using the work by Jed Kolko as a model and for easy data merging, we use the following mappings:\n",
    "* New York City = 36 + 991 (From official FIPS: 36005, 36061, 36047, 36081, 36085)\n",
    "* Kansas City = 29 + 991 (From official FIPS: 29037, 29047, 29095, 29165)\n",
    "* Joplin = 29 + 992 (From official FIPS: 29097, 29145)"
   ]
  },
  {
   "cell_type": "code",
   "execution_count": 48,
   "metadata": {},
   "outputs": [],
   "source": [
    "# List of City FIPS\n",
    "nyc = ['36005', '36061', '36047', '36081', '36085']\n",
    "kc = ['29037', '29047', '29095', '29165']\n",
    "joplin = ['29097', '29145']\n",
    "cities = nyc + kc + joplin\n",
    "\n",
    "# Subset geopandas datarfame to just these cities\n",
    "gdf_cities = gdf[gdf['id'].isin(cities)].copy()"
   ]
  },
  {
   "cell_type": "code",
   "execution_count": 49,
   "metadata": {},
   "outputs": [],
   "source": [
    "# Replace values of id, COUNTY, NAME columns with city designations\n",
    "gdf_cities.loc[gdf_cities['id'].isin(nyc),['NAME', 'id', 'COUNTY']] = 'New York City', '36991', '991'\n",
    "gdf_cities.loc[gdf_cities['id'].isin(kc),['NAME','id','COUNTY']] = 'Kansas City', '29991', '991'\n",
    "gdf_cities.loc[gdf_cities['id'].isin(joplin),['NAME','id', 'COUNTY']] = 'Joplin', '29992', '992'"
   ]
  },
  {
   "cell_type": "code",
   "execution_count": 50,
   "metadata": {},
   "outputs": [],
   "source": [
    "# Remove GEO_ID  and LSAD columns, and dissolve on new FIPS code while aggregating CENSUSAREA by summation\n",
    "gdf_cities = gdf_cities[['id','STATE','COUNTY','NAME','CENSUSAREA', 'geometry']]\n",
    "gdf_cities = gdf_cities.dissolve(by=['id','STATE','COUNTY','NAME'], aggfunc = 'sum')"
   ]
  },
  {
   "cell_type": "code",
   "execution_count": 51,
   "metadata": {},
   "outputs": [
    {
     "data": {
      "text/html": [
       "<div>\n",
       "<style scoped>\n",
       "    .dataframe tbody tr th:only-of-type {\n",
       "        vertical-align: middle;\n",
       "    }\n",
       "\n",
       "    .dataframe tbody tr th {\n",
       "        vertical-align: top;\n",
       "    }\n",
       "\n",
       "    .dataframe thead th {\n",
       "        text-align: right;\n",
       "    }\n",
       "</style>\n",
       "<table border=\"1\" class=\"dataframe\">\n",
       "  <thead>\n",
       "    <tr style=\"text-align: right;\">\n",
       "      <th></th>\n",
       "      <th>id</th>\n",
       "      <th>STATE</th>\n",
       "      <th>COUNTY</th>\n",
       "      <th>NAME</th>\n",
       "      <th>geometry</th>\n",
       "      <th>CENSUSAREA</th>\n",
       "      <th>GEO_ID</th>\n",
       "      <th>LSAD</th>\n",
       "    </tr>\n",
       "  </thead>\n",
       "  <tbody>\n",
       "    <tr>\n",
       "      <td>0</td>\n",
       "      <td>29991</td>\n",
       "      <td>29</td>\n",
       "      <td>991</td>\n",
       "      <td>Kansas City</td>\n",
       "      <td>POLYGON ((-94.11910 38.83317, -94.11966 38.568...</td>\n",
       "      <td>2118.786</td>\n",
       "      <td>NaN</td>\n",
       "      <td>NaN</td>\n",
       "    </tr>\n",
       "    <tr>\n",
       "      <td>1</td>\n",
       "      <td>29992</td>\n",
       "      <td>29</td>\n",
       "      <td>992</td>\n",
       "      <td>Joplin</td>\n",
       "      <td>POLYGON ((-94.06890 36.74782, -94.61831 36.766...</td>\n",
       "      <td>1263.252</td>\n",
       "      <td>NaN</td>\n",
       "      <td>NaN</td>\n",
       "    </tr>\n",
       "    <tr>\n",
       "      <td>2</td>\n",
       "      <td>36991</td>\n",
       "      <td>36</td>\n",
       "      <td>991</td>\n",
       "      <td>New York City</td>\n",
       "      <td>MULTIPOLYGON (((-74.14443 40.53516, -74.14870 ...</td>\n",
       "      <td>302.643</td>\n",
       "      <td>NaN</td>\n",
       "      <td>NaN</td>\n",
       "    </tr>\n",
       "  </tbody>\n",
       "</table>\n",
       "</div>"
      ],
      "text/plain": [
       "      id STATE COUNTY           NAME  \\\n",
       "0  29991    29    991    Kansas City   \n",
       "1  29992    29    992         Joplin   \n",
       "2  36991    36    991  New York City   \n",
       "\n",
       "                                            geometry  CENSUSAREA  GEO_ID  LSAD  \n",
       "0  POLYGON ((-94.11910 38.83317, -94.11966 38.568...    2118.786     NaN   NaN  \n",
       "1  POLYGON ((-94.06890 36.74782, -94.61831 36.766...    1263.252     NaN   NaN  \n",
       "2  MULTIPOLYGON (((-74.14443 40.53516, -74.14870 ...     302.643     NaN   NaN  "
      ]
     },
     "execution_count": 51,
     "metadata": {},
     "output_type": "execute_result"
    }
   ],
   "source": [
    "# Remove indexing # and add NA GEO_ID and LSAD columns back in for concatenation with original dataframe \n",
    "gdf_cities.reset_index(inplace=True)\n",
    "gdf_cities[\"GEO_ID\"] = np.nan\n",
    "gdf_cities[\"LSAD\"] = np.nan\n",
    "gdf_cities"
   ]
  },
  {
   "cell_type": "code",
   "execution_count": 52,
   "metadata": {},
   "outputs": [],
   "source": [
    "# Index both dataframes on the id (aka FIPS) column\n",
    "gdf = gdf.set_index('id')\n",
    "gdf_cities = gdf_cities.set_index('id')"
   ]
  },
  {
   "cell_type": "code",
   "execution_count": 53,
   "metadata": {},
   "outputs": [],
   "source": [
    "# Select gdf_cities columns in same order as gdf for smooth appending\n",
    "gdf_cities = gdf_cities[['GEO_ID','STATE','COUNTY','NAME','LSAD','CENSUSAREA','geometry']]"
   ]
  },
  {
   "cell_type": "code",
   "execution_count": 54,
   "metadata": {
    "scrolled": true
   },
   "outputs": [],
   "source": [
    "# Append the City Specific FIPS columns back into the main geopandas dataframe\n",
    "NYT_fips = gdf.append(gdf_cities) "
   ]
  },
  {
   "cell_type": "code",
   "execution_count": 55,
   "metadata": {},
   "outputs": [
    {
     "data": {
      "text/html": [
       "<div>\n",
       "<style scoped>\n",
       "    .dataframe tbody tr th:only-of-type {\n",
       "        vertical-align: middle;\n",
       "    }\n",
       "\n",
       "    .dataframe tbody tr th {\n",
       "        vertical-align: top;\n",
       "    }\n",
       "\n",
       "    .dataframe thead th {\n",
       "        text-align: right;\n",
       "    }\n",
       "</style>\n",
       "<table border=\"1\" class=\"dataframe\">\n",
       "  <thead>\n",
       "    <tr style=\"text-align: right;\">\n",
       "      <th></th>\n",
       "      <th>GEO_ID</th>\n",
       "      <th>STATE</th>\n",
       "      <th>COUNTY</th>\n",
       "      <th>NAME</th>\n",
       "      <th>LSAD</th>\n",
       "      <th>CENSUSAREA</th>\n",
       "      <th>geometry</th>\n",
       "    </tr>\n",
       "    <tr>\n",
       "      <th>id</th>\n",
       "      <th></th>\n",
       "      <th></th>\n",
       "      <th></th>\n",
       "      <th></th>\n",
       "      <th></th>\n",
       "      <th></th>\n",
       "      <th></th>\n",
       "    </tr>\n",
       "  </thead>\n",
       "  <tbody>\n",
       "    <tr>\n",
       "      <td>51037</td>\n",
       "      <td>0500000US51037</td>\n",
       "      <td>51</td>\n",
       "      <td>037</td>\n",
       "      <td>Charlotte</td>\n",
       "      <td>County</td>\n",
       "      <td>475.271</td>\n",
       "      <td>POLYGON ((-78.44332 37.07940, -78.49303 36.891...</td>\n",
       "    </tr>\n",
       "    <tr>\n",
       "      <td>51041</td>\n",
       "      <td>0500000US51041</td>\n",
       "      <td>51</td>\n",
       "      <td>041</td>\n",
       "      <td>Chesterfield</td>\n",
       "      <td>County</td>\n",
       "      <td>423.297</td>\n",
       "      <td>POLYGON ((-77.85180 37.35487, -77.85515 37.418...</td>\n",
       "    </tr>\n",
       "    <tr>\n",
       "      <td>29991</td>\n",
       "      <td>NaN</td>\n",
       "      <td>29</td>\n",
       "      <td>991</td>\n",
       "      <td>Kansas City</td>\n",
       "      <td>NaN</td>\n",
       "      <td>2118.786</td>\n",
       "      <td>POLYGON ((-94.11910 38.83317, -94.11966 38.568...</td>\n",
       "    </tr>\n",
       "    <tr>\n",
       "      <td>29992</td>\n",
       "      <td>NaN</td>\n",
       "      <td>29</td>\n",
       "      <td>992</td>\n",
       "      <td>Joplin</td>\n",
       "      <td>NaN</td>\n",
       "      <td>1263.252</td>\n",
       "      <td>POLYGON ((-94.06890 36.74782, -94.61831 36.766...</td>\n",
       "    </tr>\n",
       "    <tr>\n",
       "      <td>36991</td>\n",
       "      <td>NaN</td>\n",
       "      <td>36</td>\n",
       "      <td>991</td>\n",
       "      <td>New York City</td>\n",
       "      <td>NaN</td>\n",
       "      <td>302.643</td>\n",
       "      <td>MULTIPOLYGON (((-74.14443 40.53516, -74.14870 ...</td>\n",
       "    </tr>\n",
       "  </tbody>\n",
       "</table>\n",
       "</div>"
      ],
      "text/plain": [
       "               GEO_ID STATE COUNTY           NAME    LSAD  CENSUSAREA  \\\n",
       "id                                                                      \n",
       "51037  0500000US51037    51    037      Charlotte  County     475.271   \n",
       "51041  0500000US51041    51    041   Chesterfield  County     423.297   \n",
       "29991             NaN    29    991    Kansas City     NaN    2118.786   \n",
       "29992             NaN    29    992         Joplin     NaN    1263.252   \n",
       "36991             NaN    36    991  New York City     NaN     302.643   \n",
       "\n",
       "                                                geometry  \n",
       "id                                                        \n",
       "51037  POLYGON ((-78.44332 37.07940, -78.49303 36.891...  \n",
       "51041  POLYGON ((-77.85180 37.35487, -77.85515 37.418...  \n",
       "29991  POLYGON ((-94.11910 38.83317, -94.11966 38.568...  \n",
       "29992  POLYGON ((-94.06890 36.74782, -94.61831 36.766...  \n",
       "36991  MULTIPOLYGON (((-74.14443 40.53516, -74.14870 ...  "
      ]
     },
     "execution_count": 55,
     "metadata": {},
     "output_type": "execute_result"
    }
   ],
   "source": [
    "NYT_fips.tail()"
   ]
  },
  {
   "cell_type": "code",
   "execution_count": 57,
   "metadata": {},
   "outputs": [],
   "source": [
    "# Export merged GeoJSON dataframe to your local computer for later use. \n",
    "# This datafile is also located on github at \n",
    "NYT_fips.to_file(\"NYT_fips.json\", driver=\"GeoJSON\")"
   ]
  },
  {
   "cell_type": "code",
   "execution_count": null,
   "metadata": {},
   "outputs": [],
   "source": []
  }
 ],
 "metadata": {
  "kernelspec": {
   "display_name": "Python 3",
   "language": "python",
   "name": "python3"
  },
  "language_info": {
   "codemirror_mode": {
    "name": "ipython",
    "version": 3
   },
   "file_extension": ".py",
   "mimetype": "text/x-python",
   "name": "python",
   "nbconvert_exporter": "python",
   "pygments_lexer": "ipython3",
   "version": "3.7.7"
  }
 },
 "nbformat": 4,
 "nbformat_minor": 4
}
